{
 "cells": [
  {
   "cell_type": "code",
   "execution_count": 45,
   "metadata": {},
   "outputs": [
    {
     "name": "stdout",
     "output_type": "stream",
     "text": [
      "The autoreload extension is already loaded. To reload it, use:\n",
      "  %reload_ext autoreload\n"
     ]
    }
   ],
   "source": [
    "%load_ext autoreload\n",
    "%autoreload\n",
    "\n"
   ]
  },
  {
   "cell_type": "code",
   "execution_count": 46,
   "metadata": {},
   "outputs": [],
   "source": [
    "# Zoznam datasetov, ktore su dostupne v datovom v repozitari rawData\n",
    "\n",
    "datasetDict = {\n",
    "\n",
    "    'data_251010_01': {\n",
    "        'dataRepoPath': '../ML/dataRepo/rawData/',\n",
    "        'dFile_TS': 'TS_Data_2025-10-10_14_50_57.csv',\n",
    "        'dFile_inputTable': 'inputTable_2025-10-10_14_50_57.csv',\n",
    "        'steadyDurationPercent' : 30,\n",
    "    },\n",
    "\n",
    "\n",
    "}"
   ]
  },
  {
   "cell_type": "code",
   "execution_count": null,
   "metadata": {},
   "outputs": [],
   "source": []
  },
  {
   "cell_type": "code",
   "execution_count": 47,
   "metadata": {},
   "outputs": [],
   "source": [
    "# Jednoducha vizualizacia dat\n",
    "\n",
    "# for data_item in datasetDict.keys():\n",
    "for data_item in ['data_251010_01']:    \n",
    "\n",
    "    figName = 'fj_01_' + data_item\n",
    "\n",
    "    exec(open('./figjobs/figJob_01.py', encoding='utf-8').read())"
   ]
  },
  {
   "cell_type": "code",
   "execution_count": 48,
   "metadata": {},
   "outputs": [],
   "source": [
    "# # Vytvorenie dat, ktore obsahuju useky kde je system v ustalenom stave\n",
    "\n",
    "# for data_pot in datasetDict.keys():    \n",
    "\n",
    "#     exec(open('./datajobs/dataJob_02.py', encoding='utf-8').read())"
   ]
  }
 ],
 "metadata": {
  "kernelspec": {
   "display_name": "base",
   "language": "python",
   "name": "python3"
  },
  "language_info": {
   "codemirror_mode": {
    "name": "ipython",
    "version": 3
   },
   "file_extension": ".py",
   "mimetype": "text/x-python",
   "name": "python",
   "nbconvert_exporter": "python",
   "pygments_lexer": "ipython3",
   "version": "3.11.5"
  }
 },
 "nbformat": 4,
 "nbformat_minor": 2
}
